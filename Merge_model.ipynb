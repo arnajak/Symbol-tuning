{
 "cells": [
  {
   "cell_type": "code",
   "execution_count": 1,
   "id": "5f28eeca-a8d4-44e2-a342-e6f156b516cc",
   "metadata": {},
   "outputs": [],
   "source": [
    "import os\n",
    "import torch\n",
    "from tqdm.auto import tqdm\n",
    "import time\n",
    "os.environ['http_proxy'] = \"http://192.41.170.23:3128\" \n",
    "os.environ['https_proxy'] = \"http://192.41.170.23:3128\" \n",
    "os.environ['CUDA_LAUNCH_BLOCKING'] = \"1\""
   ]
  },
  {
   "cell_type": "code",
   "execution_count": 2,
   "id": "098bac07-ec4d-4efd-8e36-5497bb257b3f",
   "metadata": {},
   "outputs": [
    {
     "name": "stderr",
     "output_type": "stream",
     "text": [
      "Found cached dataset sst2 (/home/arnajakt/.cache/huggingface/datasets/sst2/default/2.0.0/9896208a8d85db057ac50c72282bcb8fe755accc671a57dd8059d4e130961ed5)\n"
     ]
    },
    {
     "data": {
      "application/vnd.jupyter.widget-view+json": {
       "model_id": "382af655afab4dea9601a4fe31dce1e3",
       "version_major": 2,
       "version_minor": 0
      },
      "text/plain": [
       "  0%|          | 0/3 [00:00<?, ?it/s]"
      ]
     },
     "metadata": {},
     "output_type": "display_data"
    },
    {
     "data": {
      "text/plain": [
       "DatasetDict({\n",
       "    train: Dataset({\n",
       "        features: ['idx', 'sentence', 'label'],\n",
       "        num_rows: 67349\n",
       "    })\n",
       "    validation: Dataset({\n",
       "        features: ['idx', 'sentence', 'label'],\n",
       "        num_rows: 872\n",
       "    })\n",
       "    test: Dataset({\n",
       "        features: ['idx', 'sentence', 'label'],\n",
       "        num_rows: 1821\n",
       "    })\n",
       "})"
      ]
     },
     "execution_count": 2,
     "metadata": {},
     "output_type": "execute_result"
    }
   ],
   "source": [
    "from datasets import load_dataset\n",
    "sst = load_dataset(\"sst2\")\n",
    "sst "
   ]
  },
  {
   "cell_type": "code",
   "execution_count": 3,
   "id": "5e6326ef-7aed-4cdd-a04a-d95b0fb0907f",
   "metadata": {},
   "outputs": [
    {
     "data": {
      "text/plain": [
       "Dataset({\n",
       "    features: ['idx', 'sentence', 'label'],\n",
       "    num_rows: 67349\n",
       "})"
      ]
     },
     "execution_count": 3,
     "metadata": {},
     "output_type": "execute_result"
    }
   ],
   "source": [
    "trainsst = sst['train']\n",
    "valsst = sst['validation']\n",
    "testsst = sst['test']\n",
    "trainsst"
   ]
  },
  {
   "cell_type": "code",
   "execution_count": 4,
   "id": "ade209de-6efd-439a-b018-be2592b7dede",
   "metadata": {},
   "outputs": [],
   "source": [
    "from transformers import AutoTokenizer , AutoModelForMaskedLM\n",
    "\n",
    "model_checkpoint = \"distilbert-base-uncased\"\n",
    "tokenizer = AutoTokenizer.from_pretrained(model_checkpoint)"
   ]
  },
  {
   "cell_type": "code",
   "execution_count": 5,
   "id": "4fb46a87-a627-4675-be51-3f1ab422db61",
   "metadata": {},
   "outputs": [],
   "source": [
    "def tokenize_function(examples):\n",
    "    return tokenizer(examples[\"prompts\"], padding=\"max_length\", truncation=True)\n",
    "\n",
    "# making label for Masking task. 0 : negative , 1 : positive \n",
    "def adjust_label(dataset):\n",
    "    # dataset might NOT covert to tensor format.\n",
    "    label_0 = tokenizer(\"negative\")[\"input_ids\"][1]\n",
    "    label_1 = tokenizer(\"positive\")[\"input_ids\"][1]\n",
    "    \n",
    "    pad_length = len(dataset[\"input_ids\"][0])\n",
    "    num_sample = len(dataset)\n",
    "    mock_labels = [[-100]*pad_length]*num_sample\n",
    "    mock_labels = torch.LongTensor(mock_labels)\n",
    "    # x = x.add_column('la99',mock_labels)\n",
    "    dataset.set_format(\"torch\")\n",
    "    \n",
    "    # repalce value in labels array for tranform to MLM patterns\n",
    "    start = time.time()\n",
    "    progress_bar = tqdm(range(len(dataset)))\n",
    "    for i in range(len(dataset)) :\n",
    "        cls_token_index = torch.where(dataset[\"input_ids\"][i] == tokenizer.cls_token_id)\n",
    "        cls_token_index = cls_token_index[0].item()\n",
    "        mock_labels[i][cls_token_index] = tokenizer.cls_token_id\n",
    "\n",
    "        sep_token_index = torch.where(dataset[\"input_ids\"][i] == tokenizer.sep_token_id)\n",
    "        sep_token_index = sep_token_index[0].item()\n",
    "        mock_labels[i][sep_token_index] = tokenizer.sep_token_id\n",
    "\n",
    "        mask_token_index = torch.where(dataset[\"input_ids\"][i] == tokenizer.mask_token_id)\n",
    "        mask_token_index = mask_token_index[0].item()\n",
    "        if dataset['label'][i] == 0 : \n",
    "            mock_labels[i][mask_token_index] = label_0\n",
    "        elif  dataset['label'][i] == 1 :\n",
    "            mock_labels[i][mask_token_index] = label_1\n",
    "        else :\n",
    "            assert False , \"something wrong!!\"\n",
    "        progress_bar.update(1)\n",
    "         \n",
    "    dataset = dataset.add_column('labels',mock_labels.tolist())\n",
    "    end = time.time()\n",
    "    print(\"Time : \",end - start)\n",
    "    \n",
    "    return dataset"
   ]
  },
  {
   "cell_type": "code",
   "execution_count": 6,
   "id": "d4686357-b65d-49ad-8cdd-d2121378aa5d",
   "metadata": {},
   "outputs": [],
   "source": [
    "# prompting data then tokenization \n",
    "def token_data(dataset,template):\n",
    "    if template == 1 : \n",
    "        prompts = list(map(lambda sentence : sentence + \": \" + \"[MASK]\"        , dataset[\"sentence\"]))\n",
    "    elif template == 2 : \n",
    "        prompts = list(map(lambda sentence : sentence + \", \" + \"[MASK]\"        , dataset[\"sentence\"]))\n",
    "    elif template == 3 : \n",
    "        prompts = list(map(lambda sentence : sentence + \"(\" + \"[MASK]\" + \")\"    , dataset[\"sentence\"]))\n",
    "    elif template == 4 : \n",
    "        prompts = list(map(lambda sentence : sentence + \"=\" + \"[MASK]\"         , dataset[\"sentence\"]))\n",
    "    else : \n",
    "        assert False , \"something wrong!!\"\n",
    "    dataset = dataset.add_column('prompts',prompts)\n",
    "    dataset = dataset.remove_columns(['sentence'])\n",
    "    \n",
    "    tokenized_datasets = dataset.map(tokenize_function, batched=True)\n",
    "    tokenized_datasets = adjust_label(tokenized_datasets)\n",
    "    tokenized_datasets = tokenized_datasets.remove_columns([\"prompts\",\"idx\",'label'])\n",
    "    \n",
    "    return tokenized_datasets"
   ]
  },
  {
   "cell_type": "code",
   "execution_count": 7,
   "id": "7b8215cc-6927-4759-a60c-cf887e5641b4",
   "metadata": {},
   "outputs": [
    {
     "name": "stderr",
     "output_type": "stream",
     "text": [
      "Loading cached shuffled indices for dataset at /home/arnajakt/.cache/huggingface/datasets/sst2/default/2.0.0/9896208a8d85db057ac50c72282bcb8fe755accc671a57dd8059d4e130961ed5/cache-2459d1a782cafb86.arrow\n",
      "Loading cached processed dataset at /home/arnajakt/.cache/huggingface/datasets/sst2/default/2.0.0/9896208a8d85db057ac50c72282bcb8fe755accc671a57dd8059d4e130961ed5/cache-cbbac5dc6e46e40a.arrow\n",
      "Loading cached processed dataset at /home/arnajakt/.cache/huggingface/datasets/sst2/default/2.0.0/9896208a8d85db057ac50c72282bcb8fe755accc671a57dd8059d4e130961ed5/cache-836047637baa27a8.arrow\n"
     ]
    },
    {
     "data": {
      "application/vnd.jupyter.widget-view+json": {
       "model_id": "05209923259b47ba898536f584bd2d94",
       "version_major": 2,
       "version_minor": 0
      },
      "text/plain": [
       "  0%|          | 0/8000 [00:00<?, ?it/s]"
      ]
     },
     "metadata": {},
     "output_type": "display_data"
    },
    {
     "name": "stderr",
     "output_type": "stream",
     "text": [
      "Loading cached processed dataset at /home/arnajakt/.cache/huggingface/datasets/sst2/default/2.0.0/9896208a8d85db057ac50c72282bcb8fe755accc671a57dd8059d4e130961ed5/cache-cbbac5dc6e46e40a.arrow\n",
      "Loading cached processed dataset at /home/arnajakt/.cache/huggingface/datasets/sst2/default/2.0.0/9896208a8d85db057ac50c72282bcb8fe755accc671a57dd8059d4e130961ed5/cache-1084d77ce90df77d.arrow\n"
     ]
    },
    {
     "name": "stdout",
     "output_type": "stream",
     "text": [
      "Time :  332.408216714859\n"
     ]
    },
    {
     "data": {
      "application/vnd.jupyter.widget-view+json": {
       "model_id": "1abd38a0d8d440d191b3f5ad70e1f690",
       "version_major": 2,
       "version_minor": 0
      },
      "text/plain": [
       "  0%|          | 0/8000 [00:00<?, ?it/s]"
      ]
     },
     "metadata": {},
     "output_type": "display_data"
    },
    {
     "name": "stderr",
     "output_type": "stream",
     "text": [
      "Loading cached processed dataset at /home/arnajakt/.cache/huggingface/datasets/sst2/default/2.0.0/9896208a8d85db057ac50c72282bcb8fe755accc671a57dd8059d4e130961ed5/cache-cbbac5dc6e46e40a.arrow\n",
      "Loading cached processed dataset at /home/arnajakt/.cache/huggingface/datasets/sst2/default/2.0.0/9896208a8d85db057ac50c72282bcb8fe755accc671a57dd8059d4e130961ed5/cache-273469ad057a3d1f.arrow\n"
     ]
    },
    {
     "name": "stdout",
     "output_type": "stream",
     "text": [
      "Time :  343.8673324584961\n"
     ]
    },
    {
     "data": {
      "application/vnd.jupyter.widget-view+json": {
       "model_id": "aac6a5b37f114de2b08eb952f722c95f",
       "version_major": 2,
       "version_minor": 0
      },
      "text/plain": [
       "  0%|          | 0/8000 [00:00<?, ?it/s]"
      ]
     },
     "metadata": {},
     "output_type": "display_data"
    },
    {
     "name": "stderr",
     "output_type": "stream",
     "text": [
      "Loading cached processed dataset at /home/arnajakt/.cache/huggingface/datasets/sst2/default/2.0.0/9896208a8d85db057ac50c72282bcb8fe755accc671a57dd8059d4e130961ed5/cache-cbbac5dc6e46e40a.arrow\n",
      "Loading cached processed dataset at /home/arnajakt/.cache/huggingface/datasets/sst2/default/2.0.0/9896208a8d85db057ac50c72282bcb8fe755accc671a57dd8059d4e130961ed5/cache-31988bd48168ce45.arrow\n"
     ]
    },
    {
     "name": "stdout",
     "output_type": "stream",
     "text": [
      "Time :  341.3421037197113\n"
     ]
    },
    {
     "data": {
      "application/vnd.jupyter.widget-view+json": {
       "model_id": "47c8e25296f246a3ac07bcff476ecfa6",
       "version_major": 2,
       "version_minor": 0
      },
      "text/plain": [
       "  0%|          | 0/8000 [00:00<?, ?it/s]"
      ]
     },
     "metadata": {},
     "output_type": "display_data"
    },
    {
     "name": "stderr",
     "output_type": "stream",
     "text": [
      "Loading cached shuffled indices for dataset at /home/arnajakt/.cache/huggingface/datasets/sst2/default/2.0.0/9896208a8d85db057ac50c72282bcb8fe755accc671a57dd8059d4e130961ed5/cache-f4e698265d2128b9.arrow\n",
      "Loading cached processed dataset at /home/arnajakt/.cache/huggingface/datasets/sst2/default/2.0.0/9896208a8d85db057ac50c72282bcb8fe755accc671a57dd8059d4e130961ed5/cache-7a0ab150ff7e2d19.arrow\n",
      "Loading cached processed dataset at /home/arnajakt/.cache/huggingface/datasets/sst2/default/2.0.0/9896208a8d85db057ac50c72282bcb8fe755accc671a57dd8059d4e130961ed5/cache-86c6056046fa88ec.arrow\n"
     ]
    },
    {
     "name": "stdout",
     "output_type": "stream",
     "text": [
      "Time :  337.58317708969116\n"
     ]
    },
    {
     "data": {
      "application/vnd.jupyter.widget-view+json": {
       "model_id": "969cf90e415d4129bc476e05afb95c9e",
       "version_major": 2,
       "version_minor": 0
      },
      "text/plain": [
       "  0%|          | 0/800 [00:00<?, ?it/s]"
      ]
     },
     "metadata": {},
     "output_type": "display_data"
    },
    {
     "name": "stderr",
     "output_type": "stream",
     "text": [
      "Loading cached processed dataset at /home/arnajakt/.cache/huggingface/datasets/sst2/default/2.0.0/9896208a8d85db057ac50c72282bcb8fe755accc671a57dd8059d4e130961ed5/cache-7a0ab150ff7e2d19.arrow\n",
      "Loading cached processed dataset at /home/arnajakt/.cache/huggingface/datasets/sst2/default/2.0.0/9896208a8d85db057ac50c72282bcb8fe755accc671a57dd8059d4e130961ed5/cache-3edcd15f44a42e51.arrow\n"
     ]
    },
    {
     "name": "stdout",
     "output_type": "stream",
     "text": [
      "Time :  4.403248310089111\n"
     ]
    },
    {
     "data": {
      "application/vnd.jupyter.widget-view+json": {
       "model_id": "119deb62e9d9448ca12e45b3adca7c14",
       "version_major": 2,
       "version_minor": 0
      },
      "text/plain": [
       "  0%|          | 0/800 [00:00<?, ?it/s]"
      ]
     },
     "metadata": {},
     "output_type": "display_data"
    },
    {
     "name": "stderr",
     "output_type": "stream",
     "text": [
      "Loading cached processed dataset at /home/arnajakt/.cache/huggingface/datasets/sst2/default/2.0.0/9896208a8d85db057ac50c72282bcb8fe755accc671a57dd8059d4e130961ed5/cache-7a0ab150ff7e2d19.arrow\n",
      "Loading cached processed dataset at /home/arnajakt/.cache/huggingface/datasets/sst2/default/2.0.0/9896208a8d85db057ac50c72282bcb8fe755accc671a57dd8059d4e130961ed5/cache-047f8daa115e8ac2.arrow\n"
     ]
    },
    {
     "name": "stdout",
     "output_type": "stream",
     "text": [
      "Time :  4.115425109863281\n"
     ]
    },
    {
     "data": {
      "application/vnd.jupyter.widget-view+json": {
       "model_id": "2e84cd708f8e4e3e8c2eefa524eaca48",
       "version_major": 2,
       "version_minor": 0
      },
      "text/plain": [
       "  0%|          | 0/800 [00:00<?, ?it/s]"
      ]
     },
     "metadata": {},
     "output_type": "display_data"
    },
    {
     "name": "stderr",
     "output_type": "stream",
     "text": [
      "Loading cached processed dataset at /home/arnajakt/.cache/huggingface/datasets/sst2/default/2.0.0/9896208a8d85db057ac50c72282bcb8fe755accc671a57dd8059d4e130961ed5/cache-7a0ab150ff7e2d19.arrow\n",
      "Loading cached processed dataset at /home/arnajakt/.cache/huggingface/datasets/sst2/default/2.0.0/9896208a8d85db057ac50c72282bcb8fe755accc671a57dd8059d4e130961ed5/cache-4b6550e708072178.arrow\n"
     ]
    },
    {
     "name": "stdout",
     "output_type": "stream",
     "text": [
      "Time :  4.300906419754028\n"
     ]
    },
    {
     "data": {
      "application/vnd.jupyter.widget-view+json": {
       "model_id": "ca2192a776da4406971de8b42a5735d5",
       "version_major": 2,
       "version_minor": 0
      },
      "text/plain": [
       "  0%|          | 0/800 [00:00<?, ?it/s]"
      ]
     },
     "metadata": {},
     "output_type": "display_data"
    },
    {
     "name": "stdout",
     "output_type": "stream",
     "text": [
      "Time :  4.243851661682129\n"
     ]
    }
   ],
   "source": [
    "small_train = trainsst.shuffle(seed=42).select(range(8000))\n",
    "train_dataset_1 = token_data(small_train,1)\n",
    "train_dataset_2 = token_data(small_train,2)\n",
    "train_dataset_3 = token_data(small_train,3)\n",
    "train_dataset_4 = token_data(small_train,4)\n",
    "\n",
    "small_eval = valsst.shuffle(seed=42).select(range(800))\n",
    "eval_dataset_1 = token_data(small_eval,1)\n",
    "eval_dataset_2 = token_data(small_eval,2)\n",
    "eval_dataset_3 = token_data(small_eval,3)\n",
    "eval_dataset_4 = token_data(small_eval,4)"
   ]
  },
  {
   "cell_type": "code",
   "execution_count": 8,
   "id": "2588f575-838c-4628-ad16-c8dd4fa58cdf",
   "metadata": {},
   "outputs": [],
   "source": [
    "from torch.utils.data import DataLoader\n",
    "batch_size = 8 \n",
    "\n",
    "train_dataloader_1 = DataLoader(train_dataset_1, shuffle=True, batch_size=batch_size)\n",
    "train_dataloader_2 = DataLoader(train_dataset_2, shuffle=True, batch_size=batch_size)\n",
    "train_dataloader_3 = DataLoader(train_dataset_3, shuffle=True, batch_size=batch_size)\n",
    "train_dataloader_4 = DataLoader(train_dataset_4, shuffle=True, batch_size=batch_size)\n",
    "\n",
    "eval_dataloader_1 = DataLoader(eval_dataset_1, batch_size=batch_size)\n",
    "eval_dataloader_2 = DataLoader(eval_dataset_2, batch_size=batch_size)\n",
    "eval_dataloader_3 = DataLoader(eval_dataset_3, batch_size=batch_size)\n",
    "eval_dataloader_4 = DataLoader(eval_dataset_4, batch_size=batch_size)"
   ]
  },
  {
   "cell_type": "code",
   "execution_count": 10,
   "id": "17712d3b-ac75-4d2f-99b6-116dd7d4b22d",
   "metadata": {},
   "outputs": [],
   "source": [
    "model = AutoModelForMaskedLM.from_pretrained(model_checkpoint)\n",
    "\n",
    "from torch.optim import AdamW\n",
    "optimizer = AdamW(model.parameters(), lr=5e-5)\n",
    "\n",
    "from accelerate import Accelerator\n",
    "model_1 = model \n",
    "model_2 = model\n",
    "model_3 = model \n",
    "model_4 = model\n",
    "\n",
    "accelerator_1 = Accelerator()\n",
    "model_1, optimizer, train_dataloader_1, eval_dataloader_1 = accelerator_1.prepare(\n",
    "    model_1, optimizer, train_dataloader_1, eval_dataloader_1\n",
    ")\n",
    "\n",
    "accelerator_2 = Accelerator()\n",
    "model_2, optimizer, train_dataloader_2, eval_dataloader_2 = accelerator_2.prepare(\n",
    "    model_2, optimizer, train_dataloader_2, eval_dataloader_2\n",
    ")\n",
    "\n",
    "accelerator_3 = Accelerator()\n",
    "model_3, optimizer, train_dataloader_3, eval_dataloader_3 = accelerator_3.prepare(\n",
    "    model_3, optimizer, train_dataloader_3, eval_dataloader_3\n",
    ")\n",
    "\n",
    "accelerator_4 = Accelerator()\n",
    "model_4, optimizer, train_dataloader_4, eval_dataloader_4 = accelerator_4.prepare(\n",
    "    model_4, optimizer, train_dataloader_4, eval_dataloader_4\n",
    ")\n"
   ]
  },
  {
   "cell_type": "code",
   "execution_count": 11,
   "id": "c8153ba3-040b-4163-b2cb-a7cee2ee1992",
   "metadata": {},
   "outputs": [],
   "source": [
    "from transformers import get_scheduler\n",
    "\n",
    "num_train_epochs = 10\n",
    "num_update_steps_per_epoch = len(train_dataloader_1)\n",
    "num_training_steps = num_train_epochs * num_update_steps_per_epoch\n",
    "\n",
    "lr_scheduler = get_scheduler(\n",
    "    \"linear\",\n",
    "    optimizer=optimizer,\n",
    "    num_warmup_steps=0,\n",
    "    num_training_steps=num_training_steps,\n",
    ")"
   ]
  },
  {
   "cell_type": "code",
   "execution_count": 12,
   "id": "479075cd-8a2e-4cd3-895e-0e5fea399375",
   "metadata": {},
   "outputs": [
    {
     "data": {
      "text/plain": [
       "'NVIDIA RTX A6000'"
      ]
     },
     "execution_count": 12,
     "metadata": {},
     "output_type": "execute_result"
    }
   ],
   "source": [
    "import torch\n",
    "\n",
    "device = torch.device(\"cuda\") if torch.cuda.is_available() else torch.device(\"cpu\")\n",
    "model.to(device)\n",
    "torch.cuda.get_device_name(device)"
   ]
  },
  {
   "cell_type": "code",
   "execution_count": 13,
   "id": "68f0ddea-a1b2-43cf-a056-518e591e1264",
   "metadata": {},
   "outputs": [],
   "source": [
    "def train_model(model,train_dataloader,accelerator):\n",
    "    losses = []\n",
    "    model.train()\n",
    "    progress_bar = tqdm(range(num_update_steps_per_epoch))\n",
    "    for batch in train_dataloader:\n",
    "        batch = {k: v.to(device) for k, v in batch.items()} \n",
    "        outputs = model(**batch)\n",
    "        loss = outputs.loss\n",
    "        losses.append(loss)\n",
    "        accelerator.backward(loss)\n",
    "        \n",
    "        \n",
    "        optimizer.step()\n",
    "        lr_scheduler.step()\n",
    "        optimizer.zero_grad()\n",
    "        progress_bar.update(1)\n",
    "    return model,losses \n",
    "\n",
    "def eval_model(model,eval_dataloader,accelerator):\n",
    "    model.eval()\n",
    "    losses = []\n",
    "    for step, batch in enumerate(eval_dataloader):\n",
    "        with torch.no_grad():\n",
    "            outputs = model(**batch)\n",
    "\n",
    "        loss = outputs.loss\n",
    "        losses.append(accelerator.gather(loss.repeat(batch_size)))\n",
    "    losses = torch.cat(losses)\n",
    "    losses = losses[: len(eval_dataloader)]\n",
    "    try:\n",
    "        perplexity = math.exp(torch.mean(losses))\n",
    "    except OverflowError:\n",
    "        perplexity = float(\"inf\")\n",
    "    return model , perplexity "
   ]
  },
  {
   "cell_type": "code",
   "execution_count": 14,
   "id": "f8299d9d-2118-4ecb-a957-231e6d958033",
   "metadata": {},
   "outputs": [
    {
     "data": {
      "application/vnd.jupyter.widget-view+json": {
       "model_id": "516dcd858ce443f0b890bb90730d6276",
       "version_major": 2,
       "version_minor": 0
      },
      "text/plain": [
       "  0%|          | 0/1000 [00:00<?, ?it/s]"
      ]
     },
     "metadata": {},
     "output_type": "display_data"
    },
    {
     "name": "stdout",
     "output_type": "stream",
     "text": [
      ">>> Epoch 0: Perplexity: 1.1281556406266984\n"
     ]
    },
    {
     "data": {
      "application/vnd.jupyter.widget-view+json": {
       "model_id": "12c52c09bbdf4059a3fffff31765526a",
       "version_major": 2,
       "version_minor": 0
      },
      "text/plain": [
       "  0%|          | 0/1000 [00:00<?, ?it/s]"
      ]
     },
     "metadata": {},
     "output_type": "display_data"
    },
    {
     "name": "stdout",
     "output_type": "stream",
     "text": [
      ">>> Epoch 0: Perplexity: 1.1326004235986353\n"
     ]
    },
    {
     "data": {
      "application/vnd.jupyter.widget-view+json": {
       "model_id": "e25fd1a4c10b45de98e26b16c89c76d6",
       "version_major": 2,
       "version_minor": 0
      },
      "text/plain": [
       "  0%|          | 0/1000 [00:00<?, ?it/s]"
      ]
     },
     "metadata": {},
     "output_type": "display_data"
    },
    {
     "name": "stdout",
     "output_type": "stream",
     "text": [
      ">>> Epoch 0: Perplexity: 1.162828682476021\n"
     ]
    },
    {
     "data": {
      "application/vnd.jupyter.widget-view+json": {
       "model_id": "300edbbe83844f528750fc4b16c20fb0",
       "version_major": 2,
       "version_minor": 0
      },
      "text/plain": [
       "  0%|          | 0/1000 [00:00<?, ?it/s]"
      ]
     },
     "metadata": {},
     "output_type": "display_data"
    },
    {
     "name": "stdout",
     "output_type": "stream",
     "text": [
      ">>> Epoch 0: Perplexity: 1.2174879540377197\n"
     ]
    },
    {
     "data": {
      "application/vnd.jupyter.widget-view+json": {
       "model_id": "ed6995dd11f141c1a8affea4ad52bbd3",
       "version_major": 2,
       "version_minor": 0
      },
      "text/plain": [
       "  0%|          | 0/1000 [00:00<?, ?it/s]"
      ]
     },
     "metadata": {},
     "output_type": "display_data"
    },
    {
     "name": "stdout",
     "output_type": "stream",
     "text": [
      ">>> Epoch 1: Perplexity: 1.251638799649102\n"
     ]
    },
    {
     "data": {
      "application/vnd.jupyter.widget-view+json": {
       "model_id": "3db2097d40b541e0b905a29fa7aa0d38",
       "version_major": 2,
       "version_minor": 0
      },
      "text/plain": [
       "  0%|          | 0/1000 [00:00<?, ?it/s]"
      ]
     },
     "metadata": {},
     "output_type": "display_data"
    },
    {
     "name": "stdout",
     "output_type": "stream",
     "text": [
      ">>> Epoch 1: Perplexity: 1.2135846812189\n"
     ]
    },
    {
     "data": {
      "application/vnd.jupyter.widget-view+json": {
       "model_id": "15dec8e91432423f99e6dcfd45802d06",
       "version_major": 2,
       "version_minor": 0
      },
      "text/plain": [
       "  0%|          | 0/1000 [00:00<?, ?it/s]"
      ]
     },
     "metadata": {},
     "output_type": "display_data"
    },
    {
     "name": "stdout",
     "output_type": "stream",
     "text": [
      ">>> Epoch 1: Perplexity: 1.3042150127052945\n"
     ]
    },
    {
     "data": {
      "application/vnd.jupyter.widget-view+json": {
       "model_id": "a86077d1a333488db464075137e8a67d",
       "version_major": 2,
       "version_minor": 0
      },
      "text/plain": [
       "  0%|          | 0/1000 [00:00<?, ?it/s]"
      ]
     },
     "metadata": {},
     "output_type": "display_data"
    },
    {
     "name": "stdout",
     "output_type": "stream",
     "text": [
      ">>> Epoch 1: Perplexity: 1.284901952112451\n"
     ]
    },
    {
     "data": {
      "application/vnd.jupyter.widget-view+json": {
       "model_id": "fb23e6e925274429b9a37fe0f943b083",
       "version_major": 2,
       "version_minor": 0
      },
      "text/plain": [
       "  0%|          | 0/1000 [00:00<?, ?it/s]"
      ]
     },
     "metadata": {},
     "output_type": "display_data"
    },
    {
     "name": "stdout",
     "output_type": "stream",
     "text": [
      ">>> Epoch 2: Perplexity: 1.2838726450211062\n"
     ]
    },
    {
     "data": {
      "application/vnd.jupyter.widget-view+json": {
       "model_id": "58b8f933a3274cbf9feaa770be0e72ba",
       "version_major": 2,
       "version_minor": 0
      },
      "text/plain": [
       "  0%|          | 0/1000 [00:00<?, ?it/s]"
      ]
     },
     "metadata": {},
     "output_type": "display_data"
    },
    {
     "name": "stdout",
     "output_type": "stream",
     "text": [
      ">>> Epoch 2: Perplexity: 1.2608504576745374\n"
     ]
    },
    {
     "data": {
      "application/vnd.jupyter.widget-view+json": {
       "model_id": "92f1fae91a3e4821b36a80e54534862b",
       "version_major": 2,
       "version_minor": 0
      },
      "text/plain": [
       "  0%|          | 0/1000 [00:00<?, ?it/s]"
      ]
     },
     "metadata": {},
     "output_type": "display_data"
    },
    {
     "name": "stdout",
     "output_type": "stream",
     "text": [
      ">>> Epoch 2: Perplexity: 1.272557324924781\n"
     ]
    },
    {
     "data": {
      "application/vnd.jupyter.widget-view+json": {
       "model_id": "a38b973536b843b0b7b000872700f6b6",
       "version_major": 2,
       "version_minor": 0
      },
      "text/plain": [
       "  0%|          | 0/1000 [00:00<?, ?it/s]"
      ]
     },
     "metadata": {},
     "output_type": "display_data"
    },
    {
     "name": "stdout",
     "output_type": "stream",
     "text": [
      ">>> Epoch 2: Perplexity: 1.2563496018196751\n"
     ]
    },
    {
     "data": {
      "application/vnd.jupyter.widget-view+json": {
       "model_id": "89cc6039c62b40a6bc1f867714e054c8",
       "version_major": 2,
       "version_minor": 0
      },
      "text/plain": [
       "  0%|          | 0/1000 [00:00<?, ?it/s]"
      ]
     },
     "metadata": {},
     "output_type": "display_data"
    },
    {
     "name": "stdout",
     "output_type": "stream",
     "text": [
      ">>> Epoch 3: Perplexity: 1.2530733509133336\n"
     ]
    },
    {
     "data": {
      "application/vnd.jupyter.widget-view+json": {
       "model_id": "98c3a883662140ddb8ea8831e057fcf9",
       "version_major": 2,
       "version_minor": 0
      },
      "text/plain": [
       "  0%|          | 0/1000 [00:00<?, ?it/s]"
      ]
     },
     "metadata": {},
     "output_type": "display_data"
    },
    {
     "name": "stdout",
     "output_type": "stream",
     "text": [
      ">>> Epoch 3: Perplexity: 1.2608504576745374\n"
     ]
    },
    {
     "data": {
      "application/vnd.jupyter.widget-view+json": {
       "model_id": "d3a0d7f34d2c400f80f3415db6552445",
       "version_major": 2,
       "version_minor": 0
      },
      "text/plain": [
       "  0%|          | 0/1000 [00:00<?, ?it/s]"
      ]
     },
     "metadata": {},
     "output_type": "display_data"
    },
    {
     "name": "stdout",
     "output_type": "stream",
     "text": [
      ">>> Epoch 3: Perplexity: 1.272557324924781\n"
     ]
    },
    {
     "data": {
      "application/vnd.jupyter.widget-view+json": {
       "model_id": "6cce1072eec94ae284a6867abced3ab8",
       "version_major": 2,
       "version_minor": 0
      },
      "text/plain": [
       "  0%|          | 0/1000 [00:00<?, ?it/s]"
      ]
     },
     "metadata": {},
     "output_type": "display_data"
    },
    {
     "name": "stdout",
     "output_type": "stream",
     "text": [
      ">>> Epoch 3: Perplexity: 1.2563496018196751\n"
     ]
    },
    {
     "data": {
      "application/vnd.jupyter.widget-view+json": {
       "model_id": "349d9043962640fbbe0081754392e731",
       "version_major": 2,
       "version_minor": 0
      },
      "text/plain": [
       "  0%|          | 0/1000 [00:00<?, ?it/s]"
      ]
     },
     "metadata": {},
     "output_type": "display_data"
    },
    {
     "name": "stdout",
     "output_type": "stream",
     "text": [
      ">>> Epoch 4: Perplexity: 1.2530733509133336\n"
     ]
    },
    {
     "data": {
      "application/vnd.jupyter.widget-view+json": {
       "model_id": "a891f3482aac4c978f63230aa30a8984",
       "version_major": 2,
       "version_minor": 0
      },
      "text/plain": [
       "  0%|          | 0/1000 [00:00<?, ?it/s]"
      ]
     },
     "metadata": {},
     "output_type": "display_data"
    },
    {
     "name": "stdout",
     "output_type": "stream",
     "text": [
      ">>> Epoch 4: Perplexity: 1.2608504576745374\n"
     ]
    },
    {
     "data": {
      "application/vnd.jupyter.widget-view+json": {
       "model_id": "00bc7eb4dee940cf8c5efac136b33b9a",
       "version_major": 2,
       "version_minor": 0
      },
      "text/plain": [
       "  0%|          | 0/1000 [00:00<?, ?it/s]"
      ]
     },
     "metadata": {},
     "output_type": "display_data"
    },
    {
     "name": "stdout",
     "output_type": "stream",
     "text": [
      ">>> Epoch 4: Perplexity: 1.272557324924781\n"
     ]
    },
    {
     "data": {
      "application/vnd.jupyter.widget-view+json": {
       "model_id": "4b98a14330c14191b321e90ed13ab588",
       "version_major": 2,
       "version_minor": 0
      },
      "text/plain": [
       "  0%|          | 0/1000 [00:00<?, ?it/s]"
      ]
     },
     "metadata": {},
     "output_type": "display_data"
    },
    {
     "name": "stdout",
     "output_type": "stream",
     "text": [
      ">>> Epoch 4: Perplexity: 1.2563496018196751\n"
     ]
    },
    {
     "data": {
      "application/vnd.jupyter.widget-view+json": {
       "model_id": "cd5c8260f4bb46baadd86d6e80d0e1db",
       "version_major": 2,
       "version_minor": 0
      },
      "text/plain": [
       "  0%|          | 0/1000 [00:00<?, ?it/s]"
      ]
     },
     "metadata": {},
     "output_type": "display_data"
    },
    {
     "name": "stdout",
     "output_type": "stream",
     "text": [
      ">>> Epoch 5: Perplexity: 1.2530733509133336\n"
     ]
    },
    {
     "data": {
      "application/vnd.jupyter.widget-view+json": {
       "model_id": "93ddebe0d41d4c23b39c1749f14d4228",
       "version_major": 2,
       "version_minor": 0
      },
      "text/plain": [
       "  0%|          | 0/1000 [00:00<?, ?it/s]"
      ]
     },
     "metadata": {},
     "output_type": "display_data"
    },
    {
     "name": "stdout",
     "output_type": "stream",
     "text": [
      ">>> Epoch 5: Perplexity: 1.2608504576745374\n"
     ]
    },
    {
     "data": {
      "application/vnd.jupyter.widget-view+json": {
       "model_id": "6d9a7abeefd54bd2a18c457a08e553f3",
       "version_major": 2,
       "version_minor": 0
      },
      "text/plain": [
       "  0%|          | 0/1000 [00:00<?, ?it/s]"
      ]
     },
     "metadata": {},
     "output_type": "display_data"
    },
    {
     "name": "stdout",
     "output_type": "stream",
     "text": [
      ">>> Epoch 5: Perplexity: 1.272557324924781\n"
     ]
    },
    {
     "data": {
      "application/vnd.jupyter.widget-view+json": {
       "model_id": "0c0fc2ef8893472bac4cad7ed91fddd7",
       "version_major": 2,
       "version_minor": 0
      },
      "text/plain": [
       "  0%|          | 0/1000 [00:00<?, ?it/s]"
      ]
     },
     "metadata": {},
     "output_type": "display_data"
    },
    {
     "name": "stdout",
     "output_type": "stream",
     "text": [
      ">>> Epoch 5: Perplexity: 1.2563496018196751\n"
     ]
    },
    {
     "data": {
      "application/vnd.jupyter.widget-view+json": {
       "model_id": "a6acab56e9484dc6a72327ae9bcde376",
       "version_major": 2,
       "version_minor": 0
      },
      "text/plain": [
       "  0%|          | 0/1000 [00:00<?, ?it/s]"
      ]
     },
     "metadata": {},
     "output_type": "display_data"
    },
    {
     "name": "stdout",
     "output_type": "stream",
     "text": [
      ">>> Epoch 6: Perplexity: 1.2530733509133336\n"
     ]
    },
    {
     "data": {
      "application/vnd.jupyter.widget-view+json": {
       "model_id": "53663c26ff6b45e9945d7a3d69866e53",
       "version_major": 2,
       "version_minor": 0
      },
      "text/plain": [
       "  0%|          | 0/1000 [00:00<?, ?it/s]"
      ]
     },
     "metadata": {},
     "output_type": "display_data"
    },
    {
     "name": "stdout",
     "output_type": "stream",
     "text": [
      ">>> Epoch 6: Perplexity: 1.2608504576745374\n"
     ]
    },
    {
     "data": {
      "application/vnd.jupyter.widget-view+json": {
       "model_id": "1d6e4cb43ec846e8b9057275bb2cf95d",
       "version_major": 2,
       "version_minor": 0
      },
      "text/plain": [
       "  0%|          | 0/1000 [00:00<?, ?it/s]"
      ]
     },
     "metadata": {},
     "output_type": "display_data"
    },
    {
     "name": "stdout",
     "output_type": "stream",
     "text": [
      ">>> Epoch 6: Perplexity: 1.272557324924781\n"
     ]
    },
    {
     "data": {
      "application/vnd.jupyter.widget-view+json": {
       "model_id": "2f990e2ad70e456184d01977d17b4f2d",
       "version_major": 2,
       "version_minor": 0
      },
      "text/plain": [
       "  0%|          | 0/1000 [00:00<?, ?it/s]"
      ]
     },
     "metadata": {},
     "output_type": "display_data"
    },
    {
     "name": "stdout",
     "output_type": "stream",
     "text": [
      ">>> Epoch 6: Perplexity: 1.2563496018196751\n"
     ]
    },
    {
     "data": {
      "application/vnd.jupyter.widget-view+json": {
       "model_id": "0137ffe7489a451f8c5b45aa2eda7ab5",
       "version_major": 2,
       "version_minor": 0
      },
      "text/plain": [
       "  0%|          | 0/1000 [00:00<?, ?it/s]"
      ]
     },
     "metadata": {},
     "output_type": "display_data"
    },
    {
     "name": "stdout",
     "output_type": "stream",
     "text": [
      ">>> Epoch 7: Perplexity: 1.2530733509133336\n"
     ]
    },
    {
     "data": {
      "application/vnd.jupyter.widget-view+json": {
       "model_id": "86ec811dd7604027a69f869ddea96ac5",
       "version_major": 2,
       "version_minor": 0
      },
      "text/plain": [
       "  0%|          | 0/1000 [00:00<?, ?it/s]"
      ]
     },
     "metadata": {},
     "output_type": "display_data"
    },
    {
     "name": "stdout",
     "output_type": "stream",
     "text": [
      ">>> Epoch 7: Perplexity: 1.2608504576745374\n"
     ]
    },
    {
     "data": {
      "application/vnd.jupyter.widget-view+json": {
       "model_id": "920c21cc644047a5a361e980eff03ec0",
       "version_major": 2,
       "version_minor": 0
      },
      "text/plain": [
       "  0%|          | 0/1000 [00:00<?, ?it/s]"
      ]
     },
     "metadata": {},
     "output_type": "display_data"
    },
    {
     "name": "stdout",
     "output_type": "stream",
     "text": [
      ">>> Epoch 7: Perplexity: 1.272557324924781\n"
     ]
    },
    {
     "data": {
      "application/vnd.jupyter.widget-view+json": {
       "model_id": "3283ae2f87fe4aafbd1f0f823097e4b7",
       "version_major": 2,
       "version_minor": 0
      },
      "text/plain": [
       "  0%|          | 0/1000 [00:00<?, ?it/s]"
      ]
     },
     "metadata": {},
     "output_type": "display_data"
    },
    {
     "name": "stdout",
     "output_type": "stream",
     "text": [
      ">>> Epoch 7: Perplexity: 1.2563496018196751\n"
     ]
    },
    {
     "data": {
      "application/vnd.jupyter.widget-view+json": {
       "model_id": "2903bafe2c85448d927ad2bf2f32c632",
       "version_major": 2,
       "version_minor": 0
      },
      "text/plain": [
       "  0%|          | 0/1000 [00:00<?, ?it/s]"
      ]
     },
     "metadata": {},
     "output_type": "display_data"
    },
    {
     "name": "stdout",
     "output_type": "stream",
     "text": [
      ">>> Epoch 8: Perplexity: 1.2530733509133336\n"
     ]
    },
    {
     "data": {
      "application/vnd.jupyter.widget-view+json": {
       "model_id": "cdb2f9cbda6242f9afed562be85e027f",
       "version_major": 2,
       "version_minor": 0
      },
      "text/plain": [
       "  0%|          | 0/1000 [00:00<?, ?it/s]"
      ]
     },
     "metadata": {},
     "output_type": "display_data"
    },
    {
     "name": "stdout",
     "output_type": "stream",
     "text": [
      ">>> Epoch 8: Perplexity: 1.2608504576745374\n"
     ]
    },
    {
     "data": {
      "application/vnd.jupyter.widget-view+json": {
       "model_id": "9765551e35394df2943c270894c51b23",
       "version_major": 2,
       "version_minor": 0
      },
      "text/plain": [
       "  0%|          | 0/1000 [00:00<?, ?it/s]"
      ]
     },
     "metadata": {},
     "output_type": "display_data"
    },
    {
     "name": "stdout",
     "output_type": "stream",
     "text": [
      ">>> Epoch 8: Perplexity: 1.272557324924781\n"
     ]
    },
    {
     "data": {
      "application/vnd.jupyter.widget-view+json": {
       "model_id": "a120c2996f334a1682a397176b049540",
       "version_major": 2,
       "version_minor": 0
      },
      "text/plain": [
       "  0%|          | 0/1000 [00:00<?, ?it/s]"
      ]
     },
     "metadata": {},
     "output_type": "display_data"
    },
    {
     "name": "stdout",
     "output_type": "stream",
     "text": [
      ">>> Epoch 8: Perplexity: 1.2563496018196751\n"
     ]
    },
    {
     "data": {
      "application/vnd.jupyter.widget-view+json": {
       "model_id": "469045f89985468bbb43437d007fc56b",
       "version_major": 2,
       "version_minor": 0
      },
      "text/plain": [
       "  0%|          | 0/1000 [00:00<?, ?it/s]"
      ]
     },
     "metadata": {},
     "output_type": "display_data"
    },
    {
     "name": "stdout",
     "output_type": "stream",
     "text": [
      ">>> Epoch 9: Perplexity: 1.2530733509133336\n"
     ]
    },
    {
     "data": {
      "application/vnd.jupyter.widget-view+json": {
       "model_id": "c9e7d1f2bb74489bac2c2a126aec9b37",
       "version_major": 2,
       "version_minor": 0
      },
      "text/plain": [
       "  0%|          | 0/1000 [00:00<?, ?it/s]"
      ]
     },
     "metadata": {},
     "output_type": "display_data"
    },
    {
     "name": "stdout",
     "output_type": "stream",
     "text": [
      ">>> Epoch 9: Perplexity: 1.2608504576745374\n"
     ]
    },
    {
     "data": {
      "application/vnd.jupyter.widget-view+json": {
       "model_id": "ddf51182852046b8ab44a7175190132d",
       "version_major": 2,
       "version_minor": 0
      },
      "text/plain": [
       "  0%|          | 0/1000 [00:00<?, ?it/s]"
      ]
     },
     "metadata": {},
     "output_type": "display_data"
    },
    {
     "name": "stdout",
     "output_type": "stream",
     "text": [
      ">>> Epoch 9: Perplexity: 1.272557324924781\n"
     ]
    },
    {
     "data": {
      "application/vnd.jupyter.widget-view+json": {
       "model_id": "b5452377002243fd8f195c0cd997aa6e",
       "version_major": 2,
       "version_minor": 0
      },
      "text/plain": [
       "  0%|          | 0/1000 [00:00<?, ?it/s]"
      ]
     },
     "metadata": {},
     "output_type": "display_data"
    },
    {
     "name": "stdout",
     "output_type": "stream",
     "text": [
      ">>> Epoch 9: Perplexity: 1.2563496018196751\n"
     ]
    }
   ],
   "source": [
    "from tqdm.auto import tqdm\n",
    "import torch\n",
    "import math\n",
    "\n",
    "#progress_bar = tqdm(range(num_training_steps))\n",
    "losses_1 = []\n",
    "losses_2 = []\n",
    "losses_3 = []\n",
    "losses_4 = []\n",
    "\n",
    "perplexities_1 = []\n",
    "perplexities_2 = []\n",
    "perplexities_3 = []\n",
    "perplexities_4 = []\n",
    "\n",
    "best_1 , best_2 ,best_3, best_4 = 9999999,9999999,9999999,9999999\n",
    "for epoch in range(num_train_epochs):\n",
    "\n",
    "    model_1 , losses = train_model(model_1,train_dataloader_1,accelerator_1)\n",
    "    model_1 , perplexity =  eval_model(model_1,eval_dataloader_1,accelerator_1)\n",
    "    perplexities_1.append(perplexity)\n",
    "    losses_1 += losses\n",
    "    \n",
    "    print(f\">>> Epoch {epoch}: Perplexity: {perplexity}\")\n",
    "    \n",
    "    model_2 ,losses= train_model(model_2,train_dataloader_2,accelerator_2)\n",
    "    model_2 , perplexity =  eval_model(model_2,eval_dataloader_2,accelerator_2)\n",
    "    perplexities_2.append(perplexity)\n",
    "    losses_2 += losses\n",
    "    \n",
    "    print(f\">>> Epoch {epoch}: Perplexity: {perplexity}\")\n",
    "    \n",
    "    model_3,losses = train_model(model_3,train_dataloader_3,accelerator_3)\n",
    "    model_3 , perplexity =  eval_model(model_3,eval_dataloader_3,accelerator_3)\n",
    "    perplexities_3.append(perplexity)\n",
    "    losses_3 += losses\n",
    "    \n",
    "    print(f\">>> Epoch {epoch}: Perplexity: {perplexity}\")\n",
    "    \n",
    "    model_4,losses = train_model(model_4,train_dataloader_4,accelerator_4)\n",
    "    model_4 , perplexity =  eval_model(model_4,eval_dataloader_4,accelerator_4)\n",
    "    perplexities_4.append(perplexity)\n",
    "    losses_4 += losses\n",
    "    \n",
    "    print(f\">>> Epoch {epoch}: Perplexity: {perplexity}\")\n",
    "    \n",
    "    if perplexities_1[-1] < best_1:\n",
    "        best_1 = perplexities_1[-1]\n",
    "        model_1.save_pretrained(\"model/model_1/2401\"+str(epoch), from_pt=True)\n",
    "        \n",
    "    if perplexities_2[-1] < best_2:\n",
    "        best_2 = perplexities_2[-1]\n",
    "        model_2.save_pretrained(\"model/model_2/2401\"+str(epoch), from_pt=True)      \n",
    "        \n",
    "    if perplexities_3[-1] < best_3:\n",
    "        best_3 = perplexities_3[-1]\n",
    "        model_3.save_pretrained(\"model/model_3/2401\"+str(epoch), from_pt=True)\n",
    "        \n",
    "    if perplexities_4[-1] < best_4:\n",
    "        best_4 = perplexities_4[-1]\n",
    "        model_4.save_pretrained(\"model/model_3/2401\"+str(epoch), from_pt=True)"
   ]
  },
  {
   "cell_type": "code",
   "execution_count": 15,
   "id": "bcd03387-3acb-4304-960f-4497e1a2c04b",
   "metadata": {},
   "outputs": [
    {
     "data": {
      "image/png": "[encoded data removed]",
      "text/plain": [
       "<Figure size 640x480 with 1 Axes>"
      ]
     },
     "metadata": {},
     "output_type": "display_data"
    }
   ],
   "source": [
    "import matplotlib.pyplot as plt\n",
    "plt.plot(perplexities_1,label = \"line 1\") \n",
    "plt.plot(perplexities_2,label = \"line 2\") \n",
    "plt.plot(perplexities_3,label = \"line 3\") \n",
    "plt.plot(perplexities_4,label = \"line 4\")\n",
    "plt.legend()\n",
    "plt.show()"
   ]
  },
  {
   "cell_type": "code",
   "execution_count": 16,
   "id": "4c78ec2d-b346-4927-9945-29912eaeed31",
   "metadata": {},
   "outputs": [],
   "source": [
    "def to_cpu(losses):\n",
    "    return losses.cpu().detach().numpy()\n",
    "loss_1 = map(to_cpu,losses_1)\n",
    "loss_2 = map(to_cpu,losses_2)\n",
    "loss_3 = map(to_cpu,losses_3)\n",
    "loss_4 = map(to_cpu,losses_4)"
   ]
  },
  {
   "cell_type": "code",
   "execution_count": 21,
   "id": "dbfd2754-a094-4664-aecc-0c8ffac934a3",
   "metadata": {},
   "outputs": [
    {
     "data": {
      "image/png": "[encoded data removed]",
      "text/plain": [
       "<Figure size 640x480 with 1 Axes>"
      ]
     },
     "metadata": {},
     "output_type": "display_data"
    }
   ],
   "source": [
    "plt.plot(list(loss_1),label = \"line 1\") \n",
    "plt.plot(list(loss_2),label = \"line 2\") \n",
    "plt.plot(list(loss_3),label = \"line 3\") \n",
    "plt.plot(list(loss_4),label = \"line 4\")\n",
    "plt.legend()\n",
    "plt.show()"
   ]
  },
  {
   "cell_type": "code",
   "execution_count": null,
   "id": "4c1b69d3-dd82-4763-8936-5f3f667c8bb9",
   "metadata": {},
   "outputs": [],
   "source": []
  }
 ],
 "metadata": {
  "kernelspec": {
   "display_name": "Python 3 (ipykernel)",
   "language": "python",
   "name": "python3"
  },
  "language_info": {
   "codemirror_mode": {
    "name": "ipython",
    "version": 3
   },
   "file_extension": ".py",
   "mimetype": "text/x-python",
   "name": "python",
   "nbconvert_exporter": "python",
   "pygments_lexer": "ipython3",
   "version": "3.8.10"
  }
 },
 "nbformat": 4,
 "nbformat_minor": 5
}
